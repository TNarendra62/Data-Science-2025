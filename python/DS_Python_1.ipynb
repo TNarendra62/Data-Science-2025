{
  "nbformat": 4,
  "nbformat_minor": 0,
  "metadata": {
    "colab": {
      "provenance": []
    },
    "kernelspec": {
      "name": "python3",
      "display_name": "Python 3"
    },
    "language_info": {
      "name": "python"
    }
  },
  "cells": [
    {
      "cell_type": "code",
      "source": [
        "m=30\n",
        "x= 'hello world'\n",
        "print(type(m))\n",
        "print(type(x))"
      ],
      "metadata": {
        "colab": {
          "base_uri": "https://localhost:8080/"
        },
        "id": "VkMUly-thUxI",
        "outputId": "9b9d42e8-38e5-4aad-c013-90e1fae7758d"
      },
      "execution_count": null,
      "outputs": [
        {
          "output_type": "stream",
          "name": "stdout",
          "text": [
            "<class 'int'>\n",
            "<class 'str'>\n"
          ]
        }
      ]
    },
    {
      "cell_type": "code",
      "source": [
        "n='data Science data'\n",
        "n.split()\n",
        "n.split('a')"
      ],
      "metadata": {
        "colab": {
          "base_uri": "https://localhost:8080/"
        },
        "id": "lzrkHriFhUux",
        "outputId": "7892c627-b011-4c5a-fc77-29d5a6b3058f"
      },
      "execution_count": null,
      "outputs": [
        {
          "output_type": "execute_result",
          "data": {
            "text/plain": [
              "['d', 't', ' Science d', 't', '']"
            ]
          },
          "metadata": {},
          "execution_count": 6
        }
      ]
    },
    {
      "cell_type": "code",
      "source": [
        "n='dataa'\n",
        "n.split('a')"
      ],
      "metadata": {
        "colab": {
          "base_uri": "https://localhost:8080/"
        },
        "id": "W4BQlyIxhUsl",
        "outputId": "a8f0f798-6de0-4682-8c45-21589a001e14"
      },
      "execution_count": null,
      "outputs": [
        {
          "output_type": "execute_result",
          "data": {
            "text/plain": [
              "['d', 't', '', '']"
            ]
          },
          "metadata": {},
          "execution_count": 8
        }
      ]
    },
    {
      "cell_type": "code",
      "source": [
        "x='Hello World Python'\n",
        "x.count('o')"
      ],
      "metadata": {
        "colab": {
          "base_uri": "https://localhost:8080/"
        },
        "id": "lLyE1zJtwQ_o",
        "outputId": "d9822698-9b9f-498f-f7fb-59fd7a8658f8"
      },
      "execution_count": null,
      "outputs": [
        {
          "output_type": "execute_result",
          "data": {
            "text/plain": [
              "3"
            ]
          },
          "metadata": {},
          "execution_count": 1
        }
      ]
    },
    {
      "cell_type": "code",
      "source": [
        "x=\"Data Science\"\n",
        "x.replace('Science','Engineer')"
      ],
      "metadata": {
        "colab": {
          "base_uri": "https://localhost:8080/",
          "height": 36
        },
        "id": "4pPMSvhfwRbx",
        "outputId": "4f891a57-45b2-42f1-ab44-6a61475bb128"
      },
      "execution_count": null,
      "outputs": [
        {
          "output_type": "execute_result",
          "data": {
            "text/plain": [
              "'Data Engineer'"
            ],
            "application/vnd.google.colaboratory.intrinsic+json": {
              "type": "string"
            }
          },
          "metadata": {},
          "execution_count": 16
        }
      ]
    },
    {
      "cell_type": "code",
      "source": [
        "print(x[5:])\n",
        "x[-8:-3]\n"
      ],
      "metadata": {
        "colab": {
          "base_uri": "https://localhost:8080/",
          "height": 53
        },
        "id": "r2NiPOINwRwR",
        "outputId": "78164de5-e7ba-4464-8030-cc9daf95eed1"
      },
      "execution_count": null,
      "outputs": [
        {
          "output_type": "stream",
          "name": "stdout",
          "text": [
            "Science\n"
          ]
        },
        {
          "output_type": "execute_result",
          "data": {
            "text/plain": [
              "' Scie'"
            ],
            "application/vnd.google.colaboratory.intrinsic+json": {
              "type": "string"
            }
          },
          "metadata": {},
          "execution_count": 21
        }
      ]
    },
    {
      "cell_type": "code",
      "source": [
        "x='data science'\n",
        "x.upper()[0:2]\n",
        "# better do this\n",
        "x[0:2].upper()"
      ],
      "metadata": {
        "colab": {
          "base_uri": "https://localhost:8080/",
          "height": 36
        },
        "id": "-UHoW9UbhUp4",
        "outputId": "7db8d0ad-7a58-4fc0-cbee-c4a981ee7feb"
      },
      "execution_count": null,
      "outputs": [
        {
          "output_type": "execute_result",
          "data": {
            "text/plain": [
              "'DA'"
            ],
            "application/vnd.google.colaboratory.intrinsic+json": {
              "type": "string"
            }
          },
          "metadata": {},
          "execution_count": 26
        }
      ]
    },
    {
      "cell_type": "code",
      "source": [
        "x='data SCIENce'\n",
        "print(x[5:].swapcase())\n",
        "\n",
        "#or\n",
        "x.split()[1].swapcase()"
      ],
      "metadata": {
        "colab": {
          "base_uri": "https://localhost:8080/",
          "height": 53
        },
        "id": "pLc5Dw-qhUnf",
        "outputId": "660fb4ce-1e38-4fa1-d72f-06654fa9d40a"
      },
      "execution_count": null,
      "outputs": [
        {
          "output_type": "stream",
          "name": "stdout",
          "text": [
            "scienCE\n"
          ]
        },
        {
          "output_type": "execute_result",
          "data": {
            "text/plain": [
              "'scienCE'"
            ],
            "application/vnd.google.colaboratory.intrinsic+json": {
              "type": "string"
            }
          },
          "metadata": {},
          "execution_count": 39
        }
      ]
    },
    {
      "cell_type": "code",
      "source": [
        "x=\"data\"\n",
        "x.center(10,\"*\")"
      ],
      "metadata": {
        "colab": {
          "base_uri": "https://localhost:8080/",
          "height": 36
        },
        "id": "ZGOROlZwhUlC",
        "outputId": "9f3e75ae-af7a-49f2-d2ee-e93bbbec77db"
      },
      "execution_count": null,
      "outputs": [
        {
          "output_type": "execute_result",
          "data": {
            "text/plain": [
              "'***data***'"
            ],
            "application/vnd.google.colaboratory.intrinsic+json": {
              "type": "string"
            }
          },
          "metadata": {},
          "execution_count": 42
        }
      ]
    },
    {
      "cell_type": "code",
      "source": [
        "#List\n",
        "x=[1,2,3,4,6.7,\"hello\"]\n",
        "type(x)\n",
        "len(x)"
      ],
      "metadata": {
        "id": "7DGLC1-7hUiW",
        "colab": {
          "base_uri": "https://localhost:8080/"
        },
        "outputId": "6ae1880d-8a7d-441b-9466-3f5c7e326631"
      },
      "execution_count": null,
      "outputs": [
        {
          "output_type": "execute_result",
          "data": {
            "text/plain": [
              "6"
            ]
          },
          "metadata": {},
          "execution_count": 3
        }
      ]
    },
    {
      "cell_type": "code",
      "source": [
        "#list nested list\n",
        "n=[1,2,3,[4,5,6]]\n",
        "\n",
        "# to access nested list\n",
        "n[3][0]"
      ],
      "metadata": {
        "id": "eAD0Y8QWhUf2",
        "colab": {
          "base_uri": "https://localhost:8080/"
        },
        "outputId": "89771a27-7d7b-4495-a992-3b37211c2d33"
      },
      "execution_count": null,
      "outputs": [
        {
          "output_type": "execute_result",
          "data": {
            "text/plain": [
              "4"
            ]
          },
          "metadata": {},
          "execution_count": 10
        }
      ]
    },
    {
      "cell_type": "code",
      "source": [
        "#more example\n",
        "\n",
        "n=[1,2,3,[\"data\",\"science\",\"machine\"],[\"learning\"]]\n",
        "n[3][2][-2:]\n",
        "\n",
        "\n",
        "#now print ING and show\n",
        "# ans:= first list then string\n",
        "n[4][0][-3:].upper()"
      ],
      "metadata": {
        "id": "kay5fEI7hUU3",
        "colab": {
          "base_uri": "https://localhost:8080/",
          "height": 36
        },
        "outputId": "a132205b-9693-40f3-b5c1-9c24a354d975"
      },
      "execution_count": null,
      "outputs": [
        {
          "output_type": "execute_result",
          "data": {
            "text/plain": [
              "'ING'"
            ],
            "application/vnd.google.colaboratory.intrinsic+json": {
              "type": "string"
            }
          },
          "metadata": {},
          "execution_count": 29
        }
      ]
    },
    {
      "cell_type": "code",
      "source": [
        "#append and extend\n",
        "list=[1,2,3]\n",
        "list.append(10)\n",
        "print(list)\n",
        "\n",
        "list.append([1,2,3])\n",
        "print(list)\n",
        "\n",
        "list.append('data')\n",
        "print(list)\n"
      ],
      "metadata": {
        "id": "rX2_TY_bhURb",
        "colab": {
          "base_uri": "https://localhost:8080/"
        },
        "outputId": "0a29c737-52c2-4c5c-b59f-9a39ea5d94b1"
      },
      "execution_count": null,
      "outputs": [
        {
          "output_type": "stream",
          "name": "stdout",
          "text": [
            "[1, 2, 3, 10]\n",
            "[1, 2, 3, 10, [1, 2, 3]]\n",
            "[1, 2, 3, 10, [1, 2, 3], 'data']\n"
          ]
        }
      ]
    },
    {
      "cell_type": "code",
      "source": [
        "#Extend\n",
        "l=[1,2,3]\n",
        "l.extend('data')\n",
        "print(l)"
      ],
      "metadata": {
        "id": "Z5u_wnodhUOs",
        "colab": {
          "base_uri": "https://localhost:8080/"
        },
        "outputId": "e5c9a0e8-ae25-41cb-ff96-d54ddbcd8f30"
      },
      "execution_count": null,
      "outputs": [
        {
          "output_type": "stream",
          "name": "stdout",
          "text": [
            "[1, 2, 3, 'd', 'a', 't', 'a']\n"
          ]
        }
      ]
    },
    {
      "cell_type": "code",
      "source": [
        "\n",
        "l.insert(1,'Welcome')\n",
        "l"
      ],
      "metadata": {
        "id": "3rIH7JJwhULr",
        "colab": {
          "base_uri": "https://localhost:8080/"
        },
        "outputId": "bcd00fea-d7e8-485d-e18e-558e39ce972c"
      },
      "execution_count": null,
      "outputs": [
        {
          "output_type": "execute_result",
          "data": {
            "text/plain": [
              "[1, 'Welcome', 2, 3, 'a', 't', 'Welcome', 'a']"
            ]
          },
          "metadata": {},
          "execution_count": 57
        }
      ]
    },
    {
      "cell_type": "code",
      "execution_count": null,
      "metadata": {
        "id": "SHeSUhTohRi0",
        "colab": {
          "base_uri": "https://localhost:8080/"
        },
        "outputId": "25d395d8-ca17-44d2-8f1d-821d600d8b2b"
      },
      "outputs": [
        {
          "output_type": "stream",
          "name": "stdout",
          "text": [
            "[2, 4, 6, 6, 1020]\n",
            "[2, 4, 6, 6, 1020]\n",
            "[1, 2, 3, 4]\n",
            "[1, 2, 3, 4, 234]\n"
          ]
        }
      ],
      "source": [
        "#imp shallow copy and deep copy\n",
        "# Shallow Copy\n",
        "x=[2,4,6,6]\n",
        "y=x\n",
        "# so if i change in y list will also change in x list due to it assign same memmory location for variable\n",
        "y.append(1020)\n",
        "print(y)\n",
        "print(x)\n",
        "\n",
        "m=[1,2,3,4]\n",
        "#to not to happend use .copy\n",
        "#Deep Copy\n",
        "n=m.copy()\n",
        "n.append(234)\n",
        "print(m)\n",
        "print(n)"
      ]
    },
    {
      "cell_type": "code",
      "source": [
        "type(\"\"),type([]),type(()), type({})"
      ],
      "metadata": {
        "colab": {
          "base_uri": "https://localhost:8080/"
        },
        "id": "4XwDgQM9TbMM",
        "outputId": "a65b937e-5101-4afe-d5a3-3bde017f924b"
      },
      "execution_count": null,
      "outputs": [
        {
          "output_type": "execute_result",
          "data": {
            "text/plain": [
              "(str, list, tuple, dict)"
            ]
          },
          "metadata": {},
          "execution_count": 65
        }
      ]
    },
    {
      "cell_type": "code",
      "source": [],
      "metadata": {
        "id": "8SGnbG5OUqLw"
      },
      "execution_count": null,
      "outputs": []
    },
    {
      "cell_type": "code",
      "source": [],
      "metadata": {
        "id": "swbaxFwpUqIn"
      },
      "execution_count": null,
      "outputs": []
    },
    {
      "cell_type": "code",
      "source": [],
      "metadata": {
        "id": "Qv_9q3cSUpnd"
      },
      "execution_count": null,
      "outputs": []
    },
    {
      "cell_type": "code",
      "source": [],
      "metadata": {
        "id": "vrJagnstTbYw"
      },
      "execution_count": null,
      "outputs": []
    }
  ]
}