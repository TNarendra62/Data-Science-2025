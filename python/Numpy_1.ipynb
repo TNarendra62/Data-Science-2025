{
  "nbformat": 4,
  "nbformat_minor": 0,
  "metadata": {
    "colab": {
      "provenance": []
    },
    "kernelspec": {
      "name": "python3",
      "display_name": "Python 3"
    },
    "language_info": {
      "name": "python"
    }
  },
  "cells": [
    {
      "cell_type": "code",
      "execution_count": null,
      "metadata": {
        "colab": {
          "base_uri": "https://localhost:8080/"
        },
        "id": "NijwfboCcdO7",
        "outputId": "6076383e-69a8-440a-8731-a96014017067"
      },
      "outputs": [
        {
          "output_type": "execute_result",
          "data": {
            "text/plain": [
              "array([[7, 4, 0, 0, 4],\n",
              "       [5, 5, 8, 5, 1],\n",
              "       [3, 5, 3, 3, 6],\n",
              "       [5, 5, 4, 4, 7],\n",
              "       [6, 7, 4, 1, 9]])"
            ]
          },
          "metadata": {},
          "execution_count": 4
        }
      ],
      "source": [
        "import numpy as np\n",
        "data = np.random.randint(0,10,(5,5))\n",
        "data"
      ]
    },
    {
      "cell_type": "code",
      "source": [
        "data[-2:-1,-2:-1]"
      ],
      "metadata": {
        "colab": {
          "base_uri": "https://localhost:8080/"
        },
        "id": "wIcnILzdjCvN",
        "outputId": "ae7b8d94-8bfd-4ce7-e8cc-88d661bd21d8"
      },
      "execution_count": null,
      "outputs": [
        {
          "output_type": "execute_result",
          "data": {
            "text/plain": [
              "array([[4]])"
            ]
          },
          "metadata": {},
          "execution_count": 16
        }
      ]
    },
    {
      "cell_type": "code",
      "source": [
        "x=[1,2,3,4,5]\n",
        "y=np.array([1,2,3,4,5,5,])\n",
        "print(type(x))\n",
        "print(type(y))"
      ],
      "metadata": {
        "colab": {
          "base_uri": "https://localhost:8080/"
        },
        "id": "66BrGNRWciCR",
        "outputId": "8a906566-ac3b-4f0a-9287-2f89671816f2"
      },
      "execution_count": null,
      "outputs": [
        {
          "output_type": "stream",
          "name": "stdout",
          "text": [
            "<class 'list'>\n",
            "<class 'numpy.ndarray'>\n"
          ]
        }
      ]
    },
    {
      "cell_type": "code",
      "source": [
        "#list cannot perform x/2 whereas numpy array can\n",
        "y/2\n"
      ],
      "metadata": {
        "colab": {
          "base_uri": "https://localhost:8080/"
        },
        "id": "qUpnqGSRciE4",
        "outputId": "debdaa13-236c-40e3-e90a-df76fbd1af9c"
      },
      "execution_count": null,
      "outputs": [
        {
          "output_type": "execute_result",
          "data": {
            "text/plain": [
              "array([0.5, 1. , 1.5, 2. , 2.5, 2.5])"
            ]
          },
          "metadata": {},
          "execution_count": 6
        }
      ]
    },
    {
      "cell_type": "code",
      "source": [
        "z=np.array([2.45,3,4,5,5,])\n",
        "print(z)\n",
        "#here one element is float so it convertes all element into float and even same with string\n",
        "\n",
        "l=np.array([2.45,3,4,5,5,\"data\",\"car\"])\n",
        "print(l) #all r string"
      ],
      "metadata": {
        "colab": {
          "base_uri": "https://localhost:8080/"
        },
        "id": "dnEaiQ-wciIG",
        "outputId": "fc6683f2-8db4-445b-fe23-9eb480e9338a"
      },
      "execution_count": null,
      "outputs": [
        {
          "output_type": "stream",
          "name": "stdout",
          "text": [
            "[2.45 3.   4.   5.   5.  ]\n",
            "['2.45' '3' '4' '5' '5' 'data' 'car']\n"
          ]
        }
      ]
    },
    {
      "cell_type": "code",
      "source": [
        "m=np.array([4,5,5,3])\n",
        "m*5\n"
      ],
      "metadata": {
        "colab": {
          "base_uri": "https://localhost:8080/"
        },
        "id": "DlcysiDsciKl",
        "outputId": "69b763eb-9129-40a6-d9ee-695336b08a97"
      },
      "execution_count": null,
      "outputs": [
        {
          "output_type": "execute_result",
          "data": {
            "text/plain": [
              "array([20, 25, 25, 15])"
            ]
          },
          "metadata": {},
          "execution_count": 22
        }
      ]
    },
    {
      "cell_type": "code",
      "source": [
        "#generate random numbers\n",
        "np.random.randint(0,100,5)\n",
        "np.random.randint(0,100,(4,4))"
      ],
      "metadata": {
        "colab": {
          "base_uri": "https://localhost:8080/"
        },
        "id": "BwDbWA4pciNL",
        "outputId": "c667f96c-fd53-4548-98d2-3f2aeeb05b8a"
      },
      "execution_count": null,
      "outputs": [
        {
          "output_type": "execute_result",
          "data": {
            "text/plain": [
              "array([[43, 85,  5, 77],\n",
              "       [40, 99, 24, 72],\n",
              "       [63, 11, 14, 16],\n",
              "       [67,  5, 88, 21]])"
            ]
          },
          "metadata": {},
          "execution_count": 6
        }
      ]
    },
    {
      "cell_type": "code",
      "source": [
        "np.random.rand(10)"
      ],
      "metadata": {
        "id": "jBNX7T55ciQl",
        "colab": {
          "base_uri": "https://localhost:8080/"
        },
        "outputId": "f61398d8-d9ad-4c15-f732-cc139d602eaa"
      },
      "execution_count": null,
      "outputs": [
        {
          "output_type": "execute_result",
          "data": {
            "text/plain": [
              "array([0.65704764, 0.93459886, 0.66205619, 0.61894274, 0.27261734,\n",
              "       0.85785795, 0.74662416, 0.76481553, 0.03704579, 0.83194753])"
            ]
          },
          "metadata": {},
          "execution_count": 9
        }
      ]
    },
    {
      "cell_type": "code",
      "source": [
        "# normalization\n",
        "d= np.array([1,2,3,4])\n",
        "(d-d.min())/(d.max()-d.min())\n"
      ],
      "metadata": {
        "id": "ctJMmMIRcidz",
        "colab": {
          "base_uri": "https://localhost:8080/"
        },
        "outputId": "096c2f2e-0cf1-4629-9ea5-80adf20ecc6d"
      },
      "execution_count": null,
      "outputs": [
        {
          "output_type": "execute_result",
          "data": {
            "text/plain": [
              "array([0.        , 0.33333333, 0.66666667, 1.        ])"
            ]
          },
          "metadata": {},
          "execution_count": 14
        }
      ]
    },
    {
      "cell_type": "code",
      "source": [
        "#mean median mode standard Deviation, variance, range\n",
        "m= np.random.randint(0,100,10)\n",
        "print(m)"
      ],
      "metadata": {
        "id": "n2l2nAOfcipC",
        "colab": {
          "base_uri": "https://localhost:8080/"
        },
        "outputId": "35b604d4-90e8-4420-d462-5bf4e5e2047a"
      },
      "execution_count": null,
      "outputs": [
        {
          "output_type": "stream",
          "name": "stdout",
          "text": [
            "[26  9 10 73 71 70 22 24 43 50]\n"
          ]
        }
      ]
    },
    {
      "cell_type": "code",
      "source": [
        "print(np.mean(m))\n",
        "print(np.median(m))"
      ],
      "metadata": {
        "id": "84fJG7g2cisN",
        "colab": {
          "base_uri": "https://localhost:8080/"
        },
        "outputId": "3831ba82-a3e6-4996-ca3e-e0c55679fdca"
      },
      "execution_count": null,
      "outputs": [
        {
          "output_type": "stream",
          "name": "stdout",
          "text": [
            "39.8\n",
            "34.5\n"
          ]
        }
      ]
    },
    {
      "cell_type": "code",
      "source": [
        "np.std(m)\n",
        "np.var(m)\n"
      ],
      "metadata": {
        "colab": {
          "base_uri": "https://localhost:8080/"
        },
        "id": "66pDxy5xExDb",
        "outputId": "980557a4-a00c-420f-869e-fcfff5146c0b"
      },
      "execution_count": null,
      "outputs": [
        {
          "output_type": "execute_result",
          "data": {
            "text/plain": [
              "np.float64(569.56)"
            ]
          },
          "metadata": {},
          "execution_count": 31
        }
      ]
    },
    {
      "cell_type": "code",
      "source": [
        "#Axis\n",
        "import numpy as np\n",
        "n= np.random.randint(0,5,(3,3))\n",
        "print(n)"
      ],
      "metadata": {
        "colab": {
          "base_uri": "https://localhost:8080/"
        },
        "id": "_VMKi2WQExFw",
        "outputId": "d71ac012-5659-4c36-e797-e31b44de90ef"
      },
      "execution_count": null,
      "outputs": [
        {
          "output_type": "stream",
          "name": "stdout",
          "text": [
            "[[1 4 0]\n",
            " [2 4 4]\n",
            " [3 0 0]]\n"
          ]
        }
      ]
    },
    {
      "cell_type": "code",
      "source": [
        "print(n.sum(axis=1))  #row no is added\n",
        "print(n.sum(axis=0))  #column no is added"
      ],
      "metadata": {
        "colab": {
          "base_uri": "https://localhost:8080/"
        },
        "id": "GzT9N5M8ExI1",
        "outputId": "adf8a405-a20f-44db-edee-c867424bf7cd"
      },
      "execution_count": null,
      "outputs": [
        {
          "output_type": "stream",
          "name": "stdout",
          "text": [
            "[ 5 10  3]\n",
            "[6 8 4]\n"
          ]
        }
      ]
    },
    {
      "cell_type": "code",
      "source": [
        "n= np.random.randint(0,10,10)\n",
        "print(n)\n",
        "print(n.min())\n",
        "n.argmin()  # prints index of min value"
      ],
      "metadata": {
        "colab": {
          "base_uri": "https://localhost:8080/"
        },
        "id": "KweI1YIQExLj",
        "outputId": "8dc022ac-ea65-4ab3-c677-b729b2895d48"
      },
      "execution_count": null,
      "outputs": [
        {
          "output_type": "stream",
          "name": "stdout",
          "text": [
            "[4 2 4 5 1 9 7 7 2 9]\n",
            "1\n"
          ]
        },
        {
          "output_type": "execute_result",
          "data": {
            "text/plain": [
              "np.int64(4)"
            ]
          },
          "metadata": {},
          "execution_count": 46
        }
      ]
    },
    {
      "cell_type": "code",
      "source": [
        "n= np.random.randint(0,10,(5,5))\n",
        "print(n)\n",
        "# Add only second column and print 0+5+1+3+3"
      ],
      "metadata": {
        "colab": {
          "base_uri": "https://localhost:8080/"
        },
        "id": "jpA8cqZVExO8",
        "outputId": "3cfa4620-3058-4b5a-bc3b-090ea5e57392"
      },
      "execution_count": null,
      "outputs": [
        {
          "output_type": "stream",
          "name": "stdout",
          "text": [
            "[[0 0 2 4 4]\n",
            " [3 5 9 3 4]\n",
            " [3 1 2 8 0]\n",
            " [7 3 3 5 9]\n",
            " [0 3 8 7 0]]\n"
          ]
        },
        {
          "output_type": "execute_result",
          "data": {
            "text/plain": [
              "np.int64(5)"
            ]
          },
          "metadata": {},
          "execution_count": 56
        }
      ]
    },
    {
      "cell_type": "code",
      "source": [
        "n[:,1].sum()"
      ],
      "metadata": {
        "colab": {
          "base_uri": "https://localhost:8080/"
        },
        "id": "E2-qsTAUEx1k",
        "outputId": "cecfa361-2b04-4449-eb7c-808a3e471951"
      },
      "execution_count": null,
      "outputs": [
        {
          "output_type": "execute_result",
          "data": {
            "text/plain": [
              "np.int64(12)"
            ]
          },
          "metadata": {},
          "execution_count": 63
        }
      ]
    },
    {
      "cell_type": "code",
      "source": [
        "#max of 4th cloumn index print\n",
        "n[:,-2].argmax()"
      ],
      "metadata": {
        "colab": {
          "base_uri": "https://localhost:8080/"
        },
        "id": "RuR7FS5VEx49",
        "outputId": "d44ab9f6-db68-4a49-c4b0-32e9f4e71784"
      },
      "execution_count": null,
      "outputs": [
        {
          "output_type": "execute_result",
          "data": {
            "text/plain": [
              "np.int64(2)"
            ]
          },
          "metadata": {},
          "execution_count": 65
        }
      ]
    },
    {
      "cell_type": "code",
      "source": [
        "# numpy broadcasting is nothing but it makes an copy if there is no matching size of both array\n",
        "data= np.array([2,4,5,6])\n",
        "m= 10  #creates copy like ([10,10,10,10]) to match the size\n",
        "data+10"
      ],
      "metadata": {
        "colab": {
          "base_uri": "https://localhost:8080/"
        },
        "id": "NA7muGu5XChu",
        "outputId": "578beb9d-a807-421f-ac2b-01dd66e80c1c"
      },
      "execution_count": null,
      "outputs": [
        {
          "output_type": "execute_result",
          "data": {
            "text/plain": [
              "array([12, 14, 15, 16])"
            ]
          },
          "metadata": {},
          "execution_count": 66
        }
      ]
    },
    {
      "cell_type": "code",
      "source": [],
      "metadata": {
        "id": "KwyF8ps0XCtW"
      },
      "execution_count": null,
      "outputs": []
    },
    {
      "cell_type": "code",
      "source": [],
      "metadata": {
        "id": "-9dcz4obXCxC"
      },
      "execution_count": null,
      "outputs": []
    }
  ]
}