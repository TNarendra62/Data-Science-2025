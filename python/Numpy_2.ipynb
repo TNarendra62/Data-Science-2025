{
  "nbformat": 4,
  "nbformat_minor": 0,
  "metadata": {
    "colab": {
      "provenance": []
    },
    "kernelspec": {
      "name": "python3",
      "display_name": "Python 3"
    },
    "language_info": {
      "name": "python"
    }
  },
  "cells": [
    {
      "cell_type": "code",
      "execution_count": 1,
      "metadata": {
        "id": "01OnE6RxGGaS",
        "colab": {
          "base_uri": "https://localhost:8080/"
        },
        "outputId": "5f7ae3e7-bea9-416a-ec36-425a9cb13f7a"
      },
      "outputs": [
        {
          "output_type": "execute_result",
          "data": {
            "text/plain": [
              "array([6, 1, 8, 7, 9, 8, 7, 0, 3, 3])"
            ]
          },
          "metadata": {},
          "execution_count": 1
        }
      ],
      "source": [
        "import numpy as np\n",
        "data = np.random.randint(0,10,10)\n",
        "data"
      ]
    },
    {
      "cell_type": "code",
      "source": [
        "data>5"
      ],
      "metadata": {
        "id": "NlK_nN8yGNZ5",
        "colab": {
          "base_uri": "https://localhost:8080/"
        },
        "outputId": "b3f18cc5-6107-426d-e830-044f9fbeab36"
      },
      "execution_count": null,
      "outputs": [
        {
          "output_type": "execute_result",
          "data": {
            "text/plain": [
              "array([ True, False,  True, False,  True, False, False, False,  True,\n",
              "        True])"
            ]
          },
          "metadata": {},
          "execution_count": 5
        }
      ]
    },
    {
      "cell_type": "code",
      "source": [
        "data[data>5]"
      ],
      "metadata": {
        "id": "f6t08lXxGNcI",
        "colab": {
          "base_uri": "https://localhost:8080/"
        },
        "outputId": "7bca0289-535a-43e8-8223-b4be13d5e99d"
      },
      "execution_count": null,
      "outputs": [
        {
          "output_type": "execute_result",
          "data": {
            "text/plain": [
              "array([6, 9, 6, 7, 9])"
            ]
          },
          "metadata": {},
          "execution_count": 6
        }
      ]
    },
    {
      "cell_type": "code",
      "source": [
        "#2. > 50 and <50\n",
        "data = np.random.randint(0,100,10)\n",
        "print(data)\n",
        "print(data[data>50])\n",
        "print(data[data<50])"
      ],
      "metadata": {
        "id": "0v0k9EHdGNer",
        "colab": {
          "base_uri": "https://localhost:8080/"
        },
        "outputId": "7c9c8798-230b-468b-df23-7602059c331f"
      },
      "execution_count": null,
      "outputs": [
        {
          "output_type": "stream",
          "name": "stdout",
          "text": [
            "[87 58 64 34 31 15 34 10 35 39]\n",
            "[87 58 64]\n",
            "[34 31 15 34 10 35 39]\n"
          ]
        }
      ]
    },
    {
      "cell_type": "code",
      "source": [
        "# for  greater than average\n",
        "data[data>data.mean()]"
      ],
      "metadata": {
        "id": "9bYDP3afGNhr",
        "colab": {
          "base_uri": "https://localhost:8080/"
        },
        "outputId": "eae5039d-709b-42d2-8332-4a8f41d83b7c"
      },
      "execution_count": null,
      "outputs": [
        {
          "output_type": "execute_result",
          "data": {
            "text/plain": [
              "array([87, 58, 64])"
            ]
          },
          "metadata": {},
          "execution_count": 16
        }
      ]
    },
    {
      "cell_type": "code",
      "source": [
        "np.mean(data)"
      ],
      "metadata": {
        "id": "PAQHqqkRGNkJ",
        "colab": {
          "base_uri": "https://localhost:8080/"
        },
        "outputId": "4614c62e-92d8-40ac-c017-db2e1e85f427"
      },
      "execution_count": null,
      "outputs": [
        {
          "output_type": "execute_result",
          "data": {
            "text/plain": [
              "np.float64(40.7)"
            ]
          },
          "metadata": {},
          "execution_count": 18
        }
      ]
    },
    {
      "cell_type": "code",
      "source": [
        "#Array Manipulation\n",
        "data1 = np.random.randint(0,100,(5,5))\n",
        "data1"
      ],
      "metadata": {
        "id": "i_NLRnxHGNm-",
        "colab": {
          "base_uri": "https://localhost:8080/"
        },
        "outputId": "04ca441e-638d-41c5-f225-098b804efb37"
      },
      "execution_count": null,
      "outputs": [
        {
          "output_type": "execute_result",
          "data": {
            "text/plain": [
              "array([[22, 47, 90, 89, 42],\n",
              "       [71, 12,  9, 13, 70],\n",
              "       [53, 79, 50, 65, 69],\n",
              "       [ 7, 27, 24,  5,  8],\n",
              "       [34, 15, 58, 88, 43]])"
            ]
          },
          "metadata": {},
          "execution_count": 21
        }
      ]
    },
    {
      "cell_type": "code",
      "source": [
        "#  ravel makes into straight format\n",
        "data1.ravel()"
      ],
      "metadata": {
        "id": "NpZQj1BaGNpU",
        "colab": {
          "base_uri": "https://localhost:8080/"
        },
        "outputId": "e17cbf84-a951-4e19-82c8-3815a40cadd2"
      },
      "execution_count": null,
      "outputs": [
        {
          "output_type": "execute_result",
          "data": {
            "text/plain": [
              "array([22, 47, 90, 89, 42, 71, 12,  9, 13, 70, 53, 79, 50, 65, 69,  7, 27,\n",
              "       24,  5,  8, 34, 15, 58, 88, 43])"
            ]
          },
          "metadata": {},
          "execution_count": 22
        }
      ]
    },
    {
      "cell_type": "code",
      "source": [
        "data1.T  #transpose converted rows to the columns"
      ],
      "metadata": {
        "id": "yzL5lZR2GNrq",
        "colab": {
          "base_uri": "https://localhost:8080/"
        },
        "outputId": "1f130124-7f7f-4fb8-c1b9-356b3adf42e8"
      },
      "execution_count": null,
      "outputs": [
        {
          "output_type": "execute_result",
          "data": {
            "text/plain": [
              "array([[22, 71, 53,  7, 34],\n",
              "       [47, 12, 79, 27, 15],\n",
              "       [90,  9, 50, 24, 58],\n",
              "       [89, 13, 65,  5, 88],\n",
              "       [42, 70, 69,  8, 43]])"
            ]
          },
          "metadata": {},
          "execution_count": 26
        }
      ]
    },
    {
      "cell_type": "code",
      "source": [
        "data2=np.random.randint(0,100,(5,5))\n",
        "data2"
      ],
      "metadata": {
        "id": "Vx59_1LrGNuG",
        "colab": {
          "base_uri": "https://localhost:8080/"
        },
        "outputId": "d575efe2-ed31-4ef3-89be-1f8a19054168"
      },
      "execution_count": null,
      "outputs": [
        {
          "output_type": "execute_result",
          "data": {
            "text/plain": [
              "array([[75, 54, 44, 93, 35],\n",
              "       [ 0, 66, 48, 82, 18],\n",
              "       [37,  9, 54, 57,  4],\n",
              "       [82, 84, 63, 77, 45],\n",
              "       [12, 67, 24, 14, 17]])"
            ]
          },
          "metadata": {},
          "execution_count": 27
        }
      ]
    },
    {
      "cell_type": "code",
      "source": [
        "np.hstack([data1,data2]) # stack beside data1 in horzontal similarly we have np.vstack([data1,data2])"
      ],
      "metadata": {
        "id": "2OW7zQpHGNxt",
        "colab": {
          "base_uri": "https://localhost:8080/"
        },
        "outputId": "76abe729-aad5-45a9-cdfd-42158bd088bc"
      },
      "execution_count": null,
      "outputs": [
        {
          "output_type": "execute_result",
          "data": {
            "text/plain": [
              "array([[22, 47, 90, 89, 42, 75, 54, 44, 93, 35],\n",
              "       [71, 12,  9, 13, 70,  0, 66, 48, 82, 18],\n",
              "       [53, 79, 50, 65, 69, 37,  9, 54, 57,  4],\n",
              "       [ 7, 27, 24,  5,  8, 82, 84, 63, 77, 45],\n",
              "       [34, 15, 58, 88, 43, 12, 67, 24, 14, 17]])"
            ]
          },
          "metadata": {},
          "execution_count": 30
        }
      ]
    },
    {
      "cell_type": "code",
      "source": [
        "np.vstack([data1,data2])"
      ],
      "metadata": {
        "id": "sctFXu4fGN0g",
        "colab": {
          "base_uri": "https://localhost:8080/"
        },
        "outputId": "1f0b6339-de6a-425a-e652-71756adda194"
      },
      "execution_count": null,
      "outputs": [
        {
          "output_type": "execute_result",
          "data": {
            "text/plain": [
              "array([[22, 47, 90, 89, 42],\n",
              "       [71, 12,  9, 13, 70],\n",
              "       [53, 79, 50, 65, 69],\n",
              "       [ 7, 27, 24,  5,  8],\n",
              "       [34, 15, 58, 88, 43],\n",
              "       [75, 54, 44, 93, 35],\n",
              "       [ 0, 66, 48, 82, 18],\n",
              "       [37,  9, 54, 57,  4],\n",
              "       [82, 84, 63, 77, 45],\n",
              "       [12, 67, 24, 14, 17]])"
            ]
          },
          "metadata": {},
          "execution_count": 31
        }
      ]
    },
    {
      "cell_type": "markdown",
      "source": [
        "###  NUMPY IMP CONCEPTS\n"
      ],
      "metadata": {
        "id": "VSEY3hFnVCoL"
      }
    },
    {
      "cell_type": "markdown",
      "source": [
        "# **Correlation x and Y and Z**\n"
      ],
      "metadata": {
        "id": "lVe9o7VwgPpj"
      }
    },
    {
      "cell_type": "code",
      "source": [
        "m = np.random.randint(0,10,(3,4))\n",
        "m"
      ],
      "metadata": {
        "id": "7CznS1G4GN5d",
        "colab": {
          "base_uri": "https://localhost:8080/"
        },
        "outputId": "c16c7a80-0f3c-470e-82be-0e9e4e56cc11"
      },
      "execution_count": null,
      "outputs": [
        {
          "output_type": "execute_result",
          "data": {
            "text/plain": [
              "array([[5, 1, 5, 7],\n",
              "       [9, 4, 3, 9],\n",
              "       [5, 2, 9, 7]])"
            ]
          },
          "metadata": {},
          "execution_count": 39
        }
      ]
    },
    {
      "cell_type": "code",
      "source": [
        "m.T"
      ],
      "metadata": {
        "id": "dc8O7UWiGN8F",
        "colab": {
          "base_uri": "https://localhost:8080/"
        },
        "outputId": "384082eb-08cb-4190-ee25-a070d21908e7"
      },
      "execution_count": null,
      "outputs": [
        {
          "output_type": "execute_result",
          "data": {
            "text/plain": [
              "array([[5, 9, 5],\n",
              "       [1, 4, 2],\n",
              "       [5, 3, 9],\n",
              "       [7, 9, 7]])"
            ]
          },
          "metadata": {},
          "execution_count": 40
        }
      ]
    },
    {
      "cell_type": "code",
      "source": [
        "# it calculates correlation of first column and 2nd column and 3rd column\n",
        "np.corrcoef(m)"
      ],
      "metadata": {
        "id": "bUnXQrAQGN_n",
        "colab": {
          "base_uri": "https://localhost:8080/"
        },
        "outputId": "878cd5d2-2807-434b-b2a4-10eba92b3694"
      },
      "execution_count": null,
      "outputs": [
        {
          "output_type": "execute_result",
          "data": {
            "text/plain": [
              "array([[ 1.        ,  0.59988588,  0.77624596],\n",
              "       [ 0.59988588,  1.        , -0.02615031],\n",
              "       [ 0.77624596, -0.02615031,  1.        ]])"
            ]
          },
          "metadata": {},
          "execution_count": 41
        }
      ]
    },
    {
      "cell_type": "code",
      "source": [
        "# np.loadtxt(\" path \",delimeter=',',skiprows=1)"
      ],
      "metadata": {
        "id": "7YRK65hhKgxP"
      },
      "execution_count": null,
      "outputs": []
    },
    {
      "cell_type": "code",
      "source": [
        "data = np.random.randint(0,100,(10,10))\n",
        "data\n"
      ],
      "metadata": {
        "id": "aBUwSpAmKgoI",
        "colab": {
          "base_uri": "https://localhost:8080/"
        },
        "outputId": "a4c63a1d-f2d9-4fc5-aebf-8e2e0b4e59f4"
      },
      "execution_count": 2,
      "outputs": [
        {
          "output_type": "execute_result",
          "data": {
            "text/plain": [
              "array([[34, 60, 94, 32, 48, 74, 60, 50,  7, 55],\n",
              "       [98, 31, 48, 81, 27, 33,  5, 11, 34, 40],\n",
              "       [40, 39, 50, 26, 56, 69, 28, 67, 71, 48],\n",
              "       [77, 67, 24, 47,  1, 31, 98, 95, 14, 84],\n",
              "       [94, 36, 30, 90,  7,  6, 59, 73, 92, 52],\n",
              "       [43, 33, 91, 86, 46, 98, 71, 99, 18, 30],\n",
              "       [24, 48, 99, 96, 35, 21, 36, 90, 10, 44],\n",
              "       [31, 45, 57, 76, 65, 39, 10, 16, 32, 48],\n",
              "       [10, 96, 59, 21, 22, 60, 83, 54, 59, 38],\n",
              "       [12,  8, 20, 24, 30, 17, 84, 51, 16, 58]])"
            ]
          },
          "metadata": {},
          "execution_count": 2
        }
      ]
    },
    {
      "cell_type": "code",
      "source": [
        "np.save(\"random.txt\",data)"
      ],
      "metadata": {
        "id": "Wd7C_D6lKgkm"
      },
      "execution_count": 3,
      "outputs": []
    },
    {
      "cell_type": "code",
      "source": [
        "np.load(\"/content/random.txt.npy\")"
      ],
      "metadata": {
        "id": "xI3pCQzuKgiO",
        "colab": {
          "base_uri": "https://localhost:8080/"
        },
        "outputId": "98c5395c-81e3-4faf-91b8-16d8ef37b52a"
      },
      "execution_count": 4,
      "outputs": [
        {
          "output_type": "execute_result",
          "data": {
            "text/plain": [
              "array([[34, 60, 94, 32, 48, 74, 60, 50,  7, 55],\n",
              "       [98, 31, 48, 81, 27, 33,  5, 11, 34, 40],\n",
              "       [40, 39, 50, 26, 56, 69, 28, 67, 71, 48],\n",
              "       [77, 67, 24, 47,  1, 31, 98, 95, 14, 84],\n",
              "       [94, 36, 30, 90,  7,  6, 59, 73, 92, 52],\n",
              "       [43, 33, 91, 86, 46, 98, 71, 99, 18, 30],\n",
              "       [24, 48, 99, 96, 35, 21, 36, 90, 10, 44],\n",
              "       [31, 45, 57, 76, 65, 39, 10, 16, 32, 48],\n",
              "       [10, 96, 59, 21, 22, 60, 83, 54, 59, 38],\n",
              "       [12,  8, 20, 24, 30, 17, 84, 51, 16, 58]])"
            ]
          },
          "metadata": {},
          "execution_count": 4
        }
      ]
    },
    {
      "cell_type": "code",
      "source": [
        "import numpy as np\n",
        "a =open('/content/sample.txt')\n",
        "print(a.read())"
      ],
      "metadata": {
        "id": "vrA3MEroKgWJ",
        "colab": {
          "base_uri": "https://localhost:8080/"
        },
        "outputId": "512c90d3-2eb8-4239-e1a0-67ec3f04efad"
      },
      "execution_count": 17,
      "outputs": [
        {
          "output_type": "stream",
          "name": "stdout",
          "text": [
            "hello this is a sample text \n",
            "hello this is a sample text \n",
            "hello this is a sample text \n",
            "hello this is a sample text v\n",
            "hello this is a sample text \n",
            "\n",
            "hello this is a sample text \n"
          ]
        }
      ]
    },
    {
      "cell_type": "code",
      "source": [],
      "metadata": {
        "id": "HuNxxnRCyFkB"
      },
      "execution_count": null,
      "outputs": []
    },
    {
      "cell_type": "code",
      "source": [],
      "metadata": {
        "id": "Fv3hbOPzyFgx"
      },
      "execution_count": null,
      "outputs": []
    },
    {
      "cell_type": "code",
      "source": [],
      "metadata": {
        "id": "oHCbizMYKgSx"
      },
      "execution_count": null,
      "outputs": []
    }
  ]
}